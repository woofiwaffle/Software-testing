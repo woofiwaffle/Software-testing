{
 "cells": [
  {
   "cell_type": "markdown",
   "source": [
    "# Тема 2.2"
   ],
   "metadata": {
    "collapsed": false
   },
   "id": "cfde7f88834a51de"
  },
  {
   "cell_type": "markdown",
   "source": [
    "## Задача 2-2-1-1"
   ],
   "metadata": {
    "collapsed": false
   },
   "id": "f4657a34e5b148b7"
  },
  {
   "cell_type": "markdown",
   "source": [
    "### Напишите класс Point, конструктор которого принимает на вход две координаты: x, y. Если координаты не заданы, считать, что они равны нулю. Значения координат должны быть использованы в конструкторе для иницизации соответсвующих полей объекта."
   ],
   "metadata": {
    "collapsed": false
   },
   "id": "630319f53a5fd031"
  },
  {
   "cell_type": "code",
   "execution_count": 1,
   "outputs": [],
   "source": [
    "class Point:\n",
    "    def __init__(self, x=0, y=0):\n",
    "        self.x = x\n",
    "        self.y = y"
   ],
   "metadata": {
    "collapsed": false,
    "ExecuteTime": {
     "end_time": "2023-12-02T13:46:40.941083700Z",
     "start_time": "2023-12-02T13:46:40.922442700Z"
    }
   },
   "id": "8a605a2249a24ccd"
  },
  {
   "cell_type": "markdown",
   "source": [
    "## Задача 2-2-2-1"
   ],
   "metadata": {
    "collapsed": false
   },
   "id": "faca3787ba43d55d"
  },
  {
   "cell_type": "markdown",
   "source": [
    "### Напишите класс MyStr, который наследуется от встроенного класса str. Переопределите метод __str__, чтобы объекты данного класса при выводе на экран были приведены к верхнему регистру."
   ],
   "metadata": {
    "collapsed": false
   },
   "id": "14d4d94a8b44578d"
  },
  {
   "cell_type": "code",
   "execution_count": 2,
   "outputs": [],
   "source": [
    "class MyStr(str):\n",
    "    def __str__(self):\n",
    "        return self.upper()"
   ],
   "metadata": {
    "collapsed": false,
    "ExecuteTime": {
     "end_time": "2023-12-02T13:50:24.942740800Z",
     "start_time": "2023-12-02T13:50:24.869571Z"
    }
   },
   "id": "a93fa7ef705e98ac"
  },
  {
   "cell_type": "markdown",
   "source": [
    "# Тема 2.4"
   ],
   "metadata": {
    "collapsed": false
   },
   "id": "ee786943fe20ef2b"
  },
  {
   "cell_type": "markdown",
   "source": [
    "## Задача 2_3_3_1"
   ],
   "metadata": {
    "collapsed": false
   },
   "id": "79c51270e85f1ec9"
  },
  {
   "cell_type": "markdown",
   "source": [
    "### Напишите функцию do_filter(), на вход которой передается список целых чисел. Примените функцию filter, чтобы в списке остались только нечетные числа. Функция должна возвращать отфильтрованный список."
   ],
   "metadata": {
    "collapsed": false
   },
   "id": "ed63fa6d173393d1"
  },
  {
   "cell_type": "code",
   "execution_count": 1,
   "outputs": [],
   "source": [
    "def do_filter(nums):\n",
    "    filts = list(filter(lambda x: x % 2 != 0, nums))\n",
    "    return filts"
   ],
   "metadata": {
    "collapsed": false,
    "ExecuteTime": {
     "end_time": "2023-12-03T14:49:32.967024700Z",
     "start_time": "2023-12-03T14:49:32.945244100Z"
    }
   },
   "id": "491dc7333f5cfdc5"
  },
  {
   "cell_type": "markdown",
   "source": [
    "## Задача 2_3_3_2"
   ],
   "metadata": {
    "collapsed": false
   },
   "id": "f330b6ea0ec4ff28"
  },
  {
   "cell_type": "markdown",
   "source": [
    "### Напишите функцию do_map(), на вход которой передается список целых чисел. Примените функцию map, чтобы увеличить каждое число в списке в 2 раза. Функция должна возвращать изменный список."
   ],
   "metadata": {
    "collapsed": false
   },
   "id": "5ab3431a1ecba6ea"
  },
  {
   "cell_type": "code",
   "execution_count": 2,
   "outputs": [],
   "source": [
    "def do_map(nums):\n",
    "    maps = list(map(lambda x: x * 2, nums))\n",
    "    return maps"
   ],
   "metadata": {
    "collapsed": false,
    "ExecuteTime": {
     "end_time": "2023-12-03T14:50:06.503497100Z",
     "start_time": "2023-12-03T14:50:06.457667Z"
    }
   },
   "id": "beb1c99d97891c69"
  },
  {
   "cell_type": "markdown",
   "source": [
    "## Задача 2_3_3_3"
   ],
   "metadata": {
    "collapsed": false
   },
   "id": "229e7430466fa3a8"
  },
  {
   "cell_type": "markdown",
   "source": [
    "### Напишите фукнцию create_pairs(), которая принимает на список, состоящий из двух строк. На основании этих двух строк создайте словарь с помощью функции zip, в котором ключи -- это элементы первой строки, а значения -- это элементы второй строки. Верните словарь из функции."
   ],
   "metadata": {
    "collapsed": false
   },
   "id": "60ce95a150c529cc"
  },
  {
   "cell_type": "code",
   "execution_count": 3,
   "outputs": [],
   "source": [
    "def create_pairs(strings):\n",
    "    keys = list(strings[0])\n",
    "    values = list(strings[1])\n",
    "    pairs = dict(zip(keys, values))\n",
    "    return pairs"
   ],
   "metadata": {
    "collapsed": false,
    "ExecuteTime": {
     "end_time": "2023-12-03T14:59:11.944145600Z",
     "start_time": "2023-12-03T14:59:11.917139100Z"
    }
   },
   "id": "799442d0d83fb12c"
  },
  {
   "cell_type": "markdown",
   "source": [
    "## Задача 2_3_3_4"
   ],
   "metadata": {
    "collapsed": false
   },
   "id": "f4d5c7dcb661e7c4"
  },
  {
   "cell_type": "markdown",
   "source": [
    "### Напишите функцию do_lambda(), которая принимает на вход список целых чисел. С помощью функций map, filter и lambda составьте новый список: четные элементы исходного списка, возведенные в квадрат. Верните новый список из функции."
   ],
   "metadata": {
    "collapsed": false
   },
   "id": "6d05a336442a4d12"
  },
  {
   "cell_type": "code",
   "execution_count": 4,
   "outputs": [],
   "source": [
    "def do_lambda(nums):\n",
    "    _nums = list(map(lambda x: x**2, filter(lambda x: x % 2 == 0, nums)))\n",
    "    return _nums"
   ],
   "metadata": {
    "collapsed": false,
    "ExecuteTime": {
     "end_time": "2023-12-03T15:00:50.353321400Z",
     "start_time": "2023-12-03T15:00:50.318377800Z"
    }
   },
   "id": "5a00c5f0f80616c5"
  },
  {
   "cell_type": "markdown",
   "source": [
    "## Задача 2-4-1-1"
   ],
   "metadata": {
    "collapsed": false
   },
   "id": "23aa836c2d6abca5"
  },
  {
   "cell_type": "markdown",
   "source": [
    "### Напишите класс MyList, который наследуется от встроенного класса list. Перепределите метод append так, чтобы в список попадали только числа."
   ],
   "metadata": {
    "collapsed": false
   },
   "id": "4ea79cca7d4bc1b7"
  },
  {
   "cell_type": "code",
   "execution_count": 5,
   "outputs": [],
   "source": [
    "class MyList(list):\n",
    "    def append(self, item):\n",
    "        if isinstance(item, (int, float)):\n",
    "            super().append(item)"
   ],
   "metadata": {
    "collapsed": false,
    "ExecuteTime": {
     "end_time": "2023-12-03T15:16:18.534564700Z",
     "start_time": "2023-12-03T15:16:18.518020800Z"
    }
   },
   "id": "6304ce3116621d96"
  },
  {
   "cell_type": "markdown",
   "source": [
    "## Задача 2-4-1-2"
   ],
   "metadata": {
    "collapsed": false
   },
   "id": "d8e379630d9cb651"
  },
  {
   "cell_type": "markdown",
   "source": [
    "### Напишите класс MyStr, который наследуется от встроенного класса str. Переопределите метод __len__ так, чтобы количество строки вычислялось как количество цифр в ней."
   ],
   "metadata": {
    "collapsed": false
   },
   "id": "82b0b972c587f097"
  },
  {
   "cell_type": "code",
   "execution_count": 6,
   "outputs": [],
   "source": [
    "class MyStr(str):\n",
    "    def __len__(self):\n",
    "        count = sum(char.isdigit() for char in self)\n",
    "        return count"
   ],
   "metadata": {
    "collapsed": false,
    "ExecuteTime": {
     "end_time": "2023-12-03T15:18:06.548718600Z",
     "start_time": "2023-12-03T15:18:06.538661100Z"
    }
   },
   "id": "3351049b0cadec6"
  },
  {
   "cell_type": "markdown",
   "source": [
    "## Задача 2-4-1-3"
   ],
   "metadata": {
    "collapsed": false
   },
   "id": "2b9942e7b5a06d39"
  },
  {
   "cell_type": "markdown",
   "source": [
    "### Напишите класс MyList, который наследуется от встроенного класса list. Переопределите метод __len__() так, чтобы в качестве длины списка возвращалось количество чисел в нем."
   ],
   "metadata": {
    "collapsed": false
   },
   "id": "9d776cdec174bf27"
  },
  {
   "cell_type": "code",
   "execution_count": 7,
   "outputs": [],
   "source": [
    "class MyList(list):\n",
    "    def __len__(self):\n",
    "        count = sum(isinstance(item, (int, float)) for item in self)\n",
    "        return count"
   ],
   "metadata": {
    "collapsed": false,
    "ExecuteTime": {
     "end_time": "2023-12-03T15:20:30.584978900Z",
     "start_time": "2023-12-03T15:20:30.542168900Z"
    }
   },
   "id": "dfc95457d0d91fe1"
  },
  {
   "cell_type": "code",
   "execution_count": null,
   "outputs": [],
   "source": [],
   "metadata": {
    "collapsed": false
   },
   "id": "60e51b81c7e4831c"
  }
 ],
 "metadata": {
  "kernelspec": {
   "display_name": "Python 3",
   "language": "python",
   "name": "python3"
  },
  "language_info": {
   "codemirror_mode": {
    "name": "ipython",
    "version": 2
   },
   "file_extension": ".py",
   "mimetype": "text/x-python",
   "name": "python",
   "nbconvert_exporter": "python",
   "pygments_lexer": "ipython2",
   "version": "2.7.6"
  }
 },
 "nbformat": 4,
 "nbformat_minor": 5
}
