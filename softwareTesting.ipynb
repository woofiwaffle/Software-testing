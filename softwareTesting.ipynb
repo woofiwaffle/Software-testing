{
 "cells": [
  {
   "cell_type": "markdown",
   "source": [
    "# Раздел 1. Основные управляющие конструкции языка Python и базовые типы данных"
   ],
   "metadata": {
    "collapsed": false
   },
   "id": "3d62a76d53580a1b"
  },
  {
   "cell_type": "markdown",
   "source": [
    "## Тема 1.1"
   ],
   "metadata": {
    "collapsed": false
   },
   "id": "908dfdc36042e6af"
  },
  {
   "cell_type": "markdown",
   "source": [
    "### Задача 1.1.2.1 (Введение в функции)"
   ],
   "metadata": {
    "collapsed": false
   },
   "id": "46408e3a5bc8c985"
  },
  {
   "cell_type": "markdown",
   "source": [
    "#### Прочитайте данные пользователя с клавиатуры (не используйте приветственное сообщение!). Выведите на экран строку: \"Your data: прочитанные_с_клавиатуры_данные\""
   ],
   "metadata": {
    "collapsed": false
   },
   "id": "9f3e2ba33f72d5f2"
  },
  {
   "cell_type": "code",
   "execution_count": 1,
   "id": "initial_id",
   "metadata": {
    "collapsed": true,
    "ExecuteTime": {
     "end_time": "2023-11-28T18:26:55.869884300Z",
     "start_time": "2023-11-28T18:26:52.890408300Z"
    }
   },
   "outputs": [
    {
     "name": "stdout",
     "output_type": "stream",
     "text": [
      "Your data: 123\n"
     ]
    }
   ],
   "source": [
    "user_data = input(\"Введите данные с клавиатуры: \")\n",
    "print(\"Your data:\", user_data)"
   ]
  },
  {
   "cell_type": "markdown",
   "source": [
    "## Тема 1.2"
   ],
   "metadata": {
    "collapsed": false
   },
   "id": "4f2164f1327b6877"
  },
  {
   "cell_type": "markdown",
   "source": [
    "### Задача 1.2.2.1 (Строки и работа с ними)"
   ],
   "metadata": {
    "collapsed": false
   },
   "id": "ba0daf1f7e2f4427"
  },
  {
   "cell_type": "markdown",
   "source": [
    "#### Прочитайте строку с клавиатуры и выведите на экран ее длину."
   ],
   "metadata": {
    "collapsed": false
   },
   "id": "77fe5471a5ad5828"
  },
  {
   "cell_type": "code",
   "execution_count": 2,
   "outputs": [
    {
     "name": "stdout",
     "output_type": "stream",
     "text": [
      "6\n"
     ]
    }
   ],
   "source": [
    "input_string = input(\"Testing with input: \")\n",
    "print(len(input_string))"
   ],
   "metadata": {
    "collapsed": false,
    "ExecuteTime": {
     "end_time": "2023-11-29T16:03:52.364993600Z",
     "start_time": "2023-11-29T16:03:48.184575100Z"
    }
   },
   "id": "ab996b3910c4581d"
  },
  {
   "cell_type": "markdown",
   "source": [
    "### Задача 1.2.2.2"
   ],
   "metadata": {
    "collapsed": false
   },
   "id": "1d17efedf7950a41"
  },
  {
   "cell_type": "markdown",
   "source": [
    "#### Прочитайте строку с клавиатуры и выведите на экран её же, приведенную к верхнему регистру."
   ],
   "metadata": {
    "collapsed": false
   },
   "id": "156fce98b01da11"
  },
  {
   "cell_type": "code",
   "execution_count": 3,
   "outputs": [
    {
     "name": "stdout",
     "output_type": "stream",
     "text": [
      "QWERTY\n"
     ]
    }
   ],
   "source": [
    "input_string = input(\"Testing with input: \")\n",
    "print(input_string.upper())"
   ],
   "metadata": {
    "collapsed": false,
    "ExecuteTime": {
     "end_time": "2023-11-29T16:05:53.624731100Z",
     "start_time": "2023-11-29T16:05:47.199777900Z"
    }
   },
   "id": "2d9d859a096e69cc"
  },
  {
   "cell_type": "markdown",
   "source": [
    "### Задача 1.2.2.3"
   ],
   "metadata": {
    "collapsed": false
   },
   "id": "a18450655875569f"
  },
  {
   "cell_type": "markdown",
   "source": [
    "#### На вход программе подается строка - объект типа str. Напишите программу, которая заменяет каждый символ 'a' в строке на символ 'o', а каждый символ 'T' на символ 'R' и выводит результат на экран."
   ],
   "metadata": {
    "collapsed": false
   },
   "id": "6042ebd2dd03d3e6"
  },
  {
   "cell_type": "code",
   "execution_count": 4,
   "outputs": [
    {
     "name": "stdout",
     "output_type": "stream",
     "text": [
      "qwerRo\n"
     ]
    }
   ],
   "source": [
    "input_string = input(\"Testing with input: \")\n",
    "result_string = input_string.replace('a', 'o').replace('T', 'R')\n",
    "print(result_string)"
   ],
   "metadata": {
    "collapsed": false,
    "ExecuteTime": {
     "end_time": "2023-11-29T16:08:51.593661900Z",
     "start_time": "2023-11-29T16:08:39.279046800Z"
    }
   },
   "id": "b122fc430cfdabbb"
  },
  {
   "cell_type": "markdown",
   "source": [
    "### Задача 1.2.3.1 (Списки)"
   ],
   "metadata": {
    "collapsed": false
   },
   "id": "a7da7e775402889f"
  },
  {
   "cell_type": "markdown",
   "source": [
    "#### Прочитайте список строк с клавиатуры (элементы отделены точкой с запятой) и выведите на экран длину списка."
   ],
   "metadata": {
    "collapsed": false
   },
   "id": "97e8ac0a782aa41e"
  },
  {
   "cell_type": "code",
   "execution_count": 5,
   "outputs": [
    {
     "name": "stdout",
     "output_type": "stream",
     "text": [
      "1\n"
     ]
    }
   ],
   "source": [
    "input_string = input()\n",
    "string_list = input_string.split(';')\n",
    "print(len(string_list))"
   ],
   "metadata": {
    "collapsed": false,
    "ExecuteTime": {
     "end_time": "2023-11-29T16:18:01.207772800Z",
     "start_time": "2023-11-29T16:17:57.888566300Z"
    }
   },
   "id": "aa5a9bafe2ebc1a6"
  },
  {
   "cell_type": "markdown",
   "source": [
    "### Задача 1.2.3.2"
   ],
   "metadata": {
    "collapsed": false
   },
   "id": "70a44a2af7e6bec6"
  },
  {
   "cell_type": "markdown",
   "source": [
    "#### Прочитайте список строк, разделенных пробелом, с клавиатуры и создайте на его основе строку с разделителем *. Выведите получившуюся строку на экран."
   ],
   "metadata": {
    "collapsed": false
   },
   "id": "aabf02b661622cf3"
  },
  {
   "cell_type": "code",
   "execution_count": 7,
   "outputs": [
    {
     "name": "stdout",
     "output_type": "stream",
     "text": [
      "1*2*3\n"
     ]
    }
   ],
   "source": [
    "input_string = input(\"Testing with input: \")\n",
    "string_list = input_string.split()\n",
    "result_string = '*'.join(string_list)\n",
    "print(result_string)"
   ],
   "metadata": {
    "collapsed": false,
    "ExecuteTime": {
     "end_time": "2023-11-29T16:30:32.482072800Z",
     "start_time": "2023-11-29T16:30:29.665603700Z"
    }
   },
   "id": "6481d826ea0fc921"
  },
  {
   "cell_type": "markdown",
   "source": [
    "### Задача 1.2.3.3"
   ],
   "metadata": {
    "collapsed": false
   },
   "id": "353d59c72b400927"
  },
  {
   "cell_type": "markdown",
   "source": [
    "#### Прочитайте список строк, разделенных пробелом, и выведите на экран результат дублирования этого списка 3 раза."
   ],
   "metadata": {
    "collapsed": false
   },
   "id": "df8f5b02fe45ff17"
  },
  {
   "cell_type": "code",
   "execution_count": 8,
   "outputs": [
    {
     "name": "stdout",
     "output_type": "stream",
     "text": [
      "['1', '2', '3', '1', '2', '3', '1', '2', '3']\n"
     ]
    }
   ],
   "source": [
    "input_string = input(\"Testing with input: \")\n",
    "string_list = input_string.split()\n",
    "result_string = string_list * 3;\n",
    "print(result_string) "
   ],
   "metadata": {
    "collapsed": false,
    "ExecuteTime": {
     "end_time": "2023-11-29T16:35:56.815243900Z",
     "start_time": "2023-11-29T16:35:52.946246800Z"
    }
   },
   "id": "5eb90ddc716d3321"
  },
  {
   "cell_type": "markdown",
   "source": [
    "### Задача 1.2.4.1 (Словари)"
   ],
   "metadata": {
    "collapsed": false
   },
   "id": "1c6367608f43c176"
  },
  {
   "cell_type": "markdown",
   "source": [
    "#### Прочитайте список ключей с клавиатуры (строки, разделенные пробелами) и создайте на его основе словарь, где все значения True. Выведите словарь на экран."
   ],
   "metadata": {
    "collapsed": false
   },
   "id": "66348d0e8340bae7"
  },
  {
   "cell_type": "code",
   "execution_count": 9,
   "outputs": [
    {
     "name": "stdout",
     "output_type": "stream",
     "text": [
      "{'1': True, '2': True, '3': True}\n"
     ]
    }
   ],
   "source": [
    "input_keys = input()\n",
    "key_list = input_keys.split()\n",
    "result_dict = {key: True for key in key_list}\n",
    "print(result_dict)"
   ],
   "metadata": {
    "collapsed": false,
    "ExecuteTime": {
     "end_time": "2023-11-29T16:44:26.652714400Z",
     "start_time": "2023-11-29T16:44:23.788614700Z"
    }
   },
   "id": "baa32920fd8151ec"
  },
  {
   "cell_type": "markdown",
   "source": [
    "## Тема 1.3"
   ],
   "metadata": {
    "collapsed": false
   },
   "id": "6f5f89d6ec1d3826"
  },
  {
   "cell_type": "markdown",
   "source": [
    "### Задача 1-3-1-1 (Ветвление и циклы)"
   ],
   "metadata": {
    "collapsed": false
   },
   "id": "25245037ec8ca526"
  },
  {
   "cell_type": "markdown",
   "source": [
    "#### Прочитайте с клавиатуры список, в котором записаны через пробел 3 целых числа. Выведите на экран номер максимального из них (нумерация начинается с 0). Если максимальных несколько, выведите номер первого."
   ],
   "metadata": {
    "collapsed": false
   },
   "id": "aa140da5acd7652d"
  },
  {
   "cell_type": "code",
   "execution_count": 12,
   "outputs": [
    {
     "name": "stdout",
     "output_type": "stream",
     "text": [
      "2\n"
     ]
    }
   ],
   "source": [
    "numbers = list(map(int, input().split()))\n",
    "max_index = numbers.index(max(numbers))\n",
    "print(max_index)"
   ],
   "metadata": {
    "collapsed": false,
    "ExecuteTime": {
     "end_time": "2023-11-29T17:14:46.826827600Z",
     "start_time": "2023-11-29T17:14:44.092439100Z"
    }
   },
   "id": "e9d822d758df06d5"
  },
  {
   "cell_type": "markdown",
   "source": [
    "### Задача 1-3-1-2"
   ],
   "metadata": {
    "collapsed": false
   },
   "id": "aa29a7b54751e7cf"
  },
  {
   "cell_type": "markdown",
   "source": [
    "#### Прочитайте с клавиатуры список строк, разделенных пробелами. Для каждой строки списка:\n",
    "\n",
    "#### 1. если ее длина строго больше 3-х, приведите строку к нижнему регистру,\n",
    "#### 2. если длина нечетная, то первый символ сделайте заглавным.\n",
    "#### Выведите на экран получившийся список строк."
   ],
   "metadata": {
    "collapsed": false
   },
   "id": "84171701f8ecc36e"
  },
  {
   "cell_type": "code",
   "execution_count": 14,
   "outputs": [
    {
     "name": "stdout",
     "output_type": "stream",
     "text": [
      "['D', 'Q', 'T', 'U']\n"
     ]
    }
   ],
   "source": [
    "input_strings = input().split()\n",
    "strings = []\n",
    "for string in input_strings:\n",
    "    if len(string) > 3:\n",
    "        string = string.lower()\n",
    "    if len(string) % 2 != 0:\n",
    "        string = string.capitalize()\n",
    "    strings.append(string)\n",
    "print(strings)    "
   ],
   "metadata": {
    "collapsed": false,
    "ExecuteTime": {
     "end_time": "2023-11-29T17:20:44.182670400Z",
     "start_time": "2023-11-29T17:20:37.660005300Z"
    }
   },
   "id": "397dc09b72efd818"
  },
  {
   "cell_type": "markdown",
   "source": [
    "### Задача 1-3-2-1 (Работа с циклом for (range, enumerate, генераторы списков и словарей))"
   ],
   "metadata": {
    "collapsed": false
   },
   "id": "f24199a13cf592f8"
  },
  {
   "cell_type": "markdown",
   "source": [
    "#### Прочитайте целое число N с клавиатуры. Сгенерируйте список целых чисел от 0 до N-1 с шагом 1. Выведите получившийся список на экран."
   ],
   "metadata": {
    "collapsed": false
   },
   "id": "ae08d99410130ee4"
  },
  {
   "cell_type": "code",
   "execution_count": 16,
   "outputs": [
    {
     "name": "stdout",
     "output_type": "stream",
     "text": [
      "[0, 1, 2, 3, 4]\n"
     ]
    }
   ],
   "source": [
    "N = int(input())\n",
    "_list = list(range(N))\n",
    "print(_list)"
   ],
   "metadata": {
    "collapsed": false,
    "ExecuteTime": {
     "end_time": "2023-11-29T17:33:39.618365100Z",
     "start_time": "2023-11-29T17:33:37.344959Z"
    }
   },
   "id": "bb848447b2425448"
  },
  {
   "cell_type": "markdown",
   "source": [
    "### Задача 1-3-2-2"
   ],
   "metadata": {
    "collapsed": false
   },
   "id": "5c7bc09810b95d48"
  },
  {
   "cell_type": "markdown",
   "source": [
    "#### Прочитайте с клавиатуры строку, в которой через пробел записаны элементы (целые числа). Примените strip к прочитанной строке для удаления пробельных символов в начале и конце строки. Далее преобразуйте строку в список целых чисел. Выведите на экран новый список, составленный из четных чисел исходного списка. В итоговом списке элементы -- объекты типа int."
   ],
   "metadata": {
    "collapsed": false
   },
   "id": "854c069e6f36cdb3"
  },
  {
   "cell_type": "code",
   "execution_count": 17,
   "outputs": [
    {
     "name": "stdout",
     "output_type": "stream",
     "text": [
      "[2, 4]\n"
     ]
    }
   ],
   "source": [
    "_string = input()\n",
    "number = [int(num) for num in _string.strip().split()]\n",
    "numbers = [num for num in number if num % 2 == 0]\n",
    "print(numbers)"
   ],
   "metadata": {
    "collapsed": false,
    "ExecuteTime": {
     "end_time": "2023-11-29T17:36:03.659834Z",
     "start_time": "2023-11-29T17:36:00.120225300Z"
    }
   },
   "id": "d2cea7986031deae"
  },
  {
   "cell_type": "markdown",
   "source": [
    "### Задача 1-3-2-3"
   ],
   "metadata": {
    "collapsed": false
   },
   "id": "d12a1d8f619a943d"
  },
  {
   "cell_type": "markdown",
   "source": [
    "#### Прочитайте список с клавиатуры (элементы, целые числа, разделены пробелом). Составьте список пар: (индекс, значение списка). Выведите получившийся список на экран."
   ],
   "metadata": {
    "collapsed": false
   },
   "id": "db7c06a97ecc1ed1"
  },
  {
   "cell_type": "code",
   "execution_count": 18,
   "outputs": [
    {
     "name": "stdout",
     "output_type": "stream",
     "text": [
      "[(0, 1), (1, 2), (2, 3), (3, 4), (4, 5)]\n"
     ]
    }
   ],
   "source": [
    "_list = list(map(int, input().split()))\n",
    "_index = [(index, value) for index, value in enumerate(_list)]\n",
    "print(_index)"
   ],
   "metadata": {
    "collapsed": false,
    "ExecuteTime": {
     "end_time": "2023-11-29T17:38:25.596951900Z",
     "start_time": "2023-11-29T17:38:21.808451300Z"
    }
   },
   "id": "9364c413a5a53ff1"
  },
  {
   "cell_type": "markdown",
   "source": [
    "### Задача 1-3-2-4"
   ],
   "metadata": {
    "collapsed": false
   },
   "id": "33ba30d660e62bec"
  },
  {
   "cell_type": "markdown",
   "source": [
    "#### Прочитайте список с клавиатуры (элементы-строки разделены пробелом), преобразуйте его в список строк, приведенных к верхнему регистру. Выведите список на экран."
   ],
   "metadata": {
    "collapsed": false
   },
   "id": "3434d36df397b17e"
  },
  {
   "cell_type": "code",
   "execution_count": 20,
   "outputs": [
    {
     "name": "stdout",
     "output_type": "stream",
     "text": [
      "['Q', 'R', 'T', 'Y', 'W']\n"
     ]
    }
   ],
   "source": [
    "_strings = input().split()\n",
    "upp_str = [string.upper() for string in _strings]\n",
    "print(upp_str)"
   ],
   "metadata": {
    "collapsed": false,
    "ExecuteTime": {
     "end_time": "2023-11-29T17:41:05.432884800Z",
     "start_time": "2023-11-29T17:40:57.673815100Z"
    }
   },
   "id": "86cac2bc6cce9532"
  },
  {
   "cell_type": "markdown",
   "source": [
    "### Задача 1-3-2-5"
   ],
   "metadata": {
    "collapsed": false
   },
   "id": "d6b33f911bc2fc73"
  },
  {
   "cell_type": "markdown",
   "source": [
    "#### На вход программе подается некоторое количество предложений, разделенных символом табуляции ('\\t'). С помощью метода строк strip() уберите пробельные символы в начале и конце каждого предложения. Далее подсчитайте, какое предложение встречается в тексте наибольшее число раз и выведите это число повторений на экран."
   ],
   "metadata": {
    "collapsed": false
   },
   "id": "989af3c9978c1ad1"
  },
  {
   "cell_type": "code",
   "execution_count": 22,
   "outputs": [
    {
     "name": "stdout",
     "output_type": "stream",
     "text": [
      "2\n"
     ]
    }
   ],
   "source": [
    "_input = input()\n",
    "sents = _input.split('\\t')\n",
    "cln_sents = [sentence.strip() for sentence in sents]\n",
    "sents_count = {}\n",
    "for sentence in cln_sents:\n",
    "    sents_count[sentence] = sents_count.get(sentence, 0) + 1\n",
    "max_sents = max(sents_count, key=sents_count.get)\n",
    "print(sents_count[max_sents])"
   ],
   "metadata": {
    "collapsed": false,
    "ExecuteTime": {
     "end_time": "2023-11-29T17:47:18.681714100Z",
     "start_time": "2023-11-29T17:47:16.308358300Z"
    }
   },
   "id": "bc87d33a28c57f7d"
  },
  {
   "cell_type": "markdown",
   "source": [
    "### Задача 1-2-4-2"
   ],
   "metadata": {
    "collapsed": false
   },
   "id": "5ad454d2b59ccbc2"
  },
  {
   "cell_type": "markdown",
   "source": [
    "#### Прочитайте список ключей с клавиатуры (строки состоящие из одного символа, разделенные пробелами) и создайте на его основе словарь, где все значения являются кодами символов в таблице ascii (ord()). Выведите итоговый словарь на экран."
   ],
   "metadata": {
    "collapsed": false
   },
   "id": "6dad6e3cdfb60b38"
  },
  {
   "cell_type": "code",
   "execution_count": 23,
   "outputs": [
    {
     "name": "stdout",
     "output_type": "stream",
     "text": [
      "{'s': 115}\n"
     ]
    }
   ],
   "source": [
    "keys = input().split()\n",
    "dict = {key: ord(key) for key in keys}\n",
    "print(dict)"
   ],
   "metadata": {
    "collapsed": false,
    "ExecuteTime": {
     "end_time": "2023-11-29T17:50:00.617072700Z",
     "start_time": "2023-11-29T17:49:58.625574400Z"
    }
   },
   "id": "391e25e0a30f0fcb"
  },
  {
   "cell_type": "code",
   "execution_count": null,
   "outputs": [],
   "source": [],
   "metadata": {
    "collapsed": false
   },
   "id": "f74156032dea8068"
  }
 ],
 "metadata": {
  "kernelspec": {
   "display_name": "Python 3",
   "language": "python",
   "name": "python3"
  },
  "language_info": {
   "codemirror_mode": {
    "name": "ipython",
    "version": 2
   },
   "file_extension": ".py",
   "mimetype": "text/x-python",
   "name": "python",
   "nbconvert_exporter": "python",
   "pygments_lexer": "ipython2",
   "version": "2.7.6"
  }
 },
 "nbformat": 4,
 "nbformat_minor": 5
}
