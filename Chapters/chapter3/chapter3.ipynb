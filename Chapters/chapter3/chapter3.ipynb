{
 "cells": [
  {
   "cell_type": "markdown",
   "source": [
    "# Тема 3.1"
   ],
   "metadata": {
    "collapsed": false
   },
   "id": "b224c9abf7a52e55"
  },
  {
   "cell_type": "markdown",
   "source": [
    "## Задача 3-1-1-1"
   ],
   "metadata": {
    "collapsed": false
   },
   "id": "eab8ace661d51db0"
  },
  {
   "cell_type": "markdown",
   "source": [
    "### Напишите функцию create_matrix(), которая принимает на вход список списков: каждый вложенный список -- это строки матрицы (элементы вложенных списков -- целые числа). Функция создает на основе этого списка матрицу типа ndarray и возвращает ее."
   ],
   "metadata": {
    "collapsed": false
   },
   "id": "1228a09e4dbb14b"
  },
  {
   "cell_type": "code",
   "execution_count": 1,
   "outputs": [],
   "source": [
    "import numpy as np\n",
    "\n",
    "def create_matrix(matrix_list):\n",
    "    matrix = np.array(matrix_list)\n",
    "    return matrix"
   ],
   "metadata": {
    "collapsed": false,
    "ExecuteTime": {
     "end_time": "2023-12-04T15:32:18.116028500Z",
     "start_time": "2023-12-04T15:32:17.946011600Z"
    }
   },
   "id": "93ca49ef93883f90"
  },
  {
   "cell_type": "markdown",
   "source": [
    "## Задача 3-1-2-2"
   ],
   "metadata": {
    "collapsed": false
   },
   "id": "afc2ad4cc377c0e3"
  },
  {
   "cell_type": "markdown",
   "source": [
    "### Напишите функцию get_info(), которая принимает на вход матрицу ndarray чисел и возвращает количество строк и столбцов в ней в виде кортежа: (количество строк, количество столбцов)"
   ],
   "metadata": {
    "collapsed": false
   },
   "id": "829b455fbc47f231"
  },
  {
   "cell_type": "code",
   "execution_count": 2,
   "outputs": [],
   "source": [
    "import numpy as np\n",
    "\n",
    "def get_info(matrix):\n",
    "    rows, cols = matrix.shape\n",
    "    return rows, cols"
   ],
   "metadata": {
    "collapsed": false,
    "ExecuteTime": {
     "end_time": "2023-12-04T15:34:42.096641800Z",
     "start_time": "2023-12-04T15:34:42.052579200Z"
    }
   },
   "id": "a8a489a18da188ba"
  },
  {
   "cell_type": "markdown",
   "source": [
    "## Задача 3-1-2-3"
   ],
   "metadata": {
    "collapsed": false
   },
   "id": "74edd78eb3de3951"
  },
  {
   "cell_type": "markdown",
   "source": [
    "### Напишите функцию solve_system(), в которую передаются: матрица коэффициентов типа ndarray и вектор свободных членов типа ndarray. Функция решает СЛАУ, описываемую представленными матрицей и вектором, и возвращает вектор -- решение СЛАУ типа ndarray."
   ],
   "metadata": {
    "collapsed": false
   },
   "id": "fa688b55432cf05a"
  },
  {
   "cell_type": "code",
   "execution_count": 3,
   "outputs": [],
   "source": [
    "import numpy as np\n",
    "\n",
    "def solve_system(coeff_matrix, free_vector):\n",
    "    solution = np.linalg.solve(coeff_matrix, free_vector)\n",
    "    return solution"
   ],
   "metadata": {
    "collapsed": false,
    "ExecuteTime": {
     "end_time": "2023-12-04T15:37:26.057811400Z",
     "start_time": "2023-12-04T15:37:25.997811600Z"
    }
   },
   "id": "1ecce0600cc17d4b"
  },
  {
   "cell_type": "code",
   "execution_count": null,
   "outputs": [],
   "source": [],
   "metadata": {
    "collapsed": false
   },
   "id": "b6579b2f47afd416"
  }
 ],
 "metadata": {
  "kernelspec": {
   "display_name": "Python 3",
   "language": "python",
   "name": "python3"
  },
  "language_info": {
   "codemirror_mode": {
    "name": "ipython",
    "version": 2
   },
   "file_extension": ".py",
   "mimetype": "text/x-python",
   "name": "python",
   "nbconvert_exporter": "python",
   "pygments_lexer": "ipython2",
   "version": "2.7.6"
  }
 },
 "nbformat": 4,
 "nbformat_minor": 5
}
