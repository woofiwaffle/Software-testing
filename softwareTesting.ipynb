{
 "cells": [
  {
   "cell_type": "markdown",
   "source": [
    "# Раздел 1. Основные управляющие конструкции языка Python и базовые типы данных"
   ],
   "metadata": {
    "collapsed": false
   },
   "id": "3d62a76d53580a1b"
  },
  {
   "cell_type": "markdown",
   "source": [
    "## Тема 1.1"
   ],
   "metadata": {
    "collapsed": false
   },
   "id": "908dfdc36042e6af"
  },
  {
   "cell_type": "markdown",
   "source": [
    "### Задача 1.1.2.1 (Введение в функции)"
   ],
   "metadata": {
    "collapsed": false
   },
   "id": "46408e3a5bc8c985"
  },
  {
   "cell_type": "code",
   "execution_count": 1,
   "id": "initial_id",
   "metadata": {
    "collapsed": true,
    "ExecuteTime": {
     "end_time": "2023-11-28T18:26:55.869884300Z",
     "start_time": "2023-11-28T18:26:52.890408300Z"
    }
   },
   "outputs": [
    {
     "name": "stdout",
     "output_type": "stream",
     "text": [
      "Your data: 123\n"
     ]
    }
   ],
   "source": [
    "user_data = input(\"Введите данные с клавиатуры: \")\n",
    "print(\"Your data:\", user_data)"
   ]
  },
  {
   "cell_type": "markdown",
   "source": [
    "## Тема 1.2"
   ],
   "metadata": {
    "collapsed": false
   },
   "id": "4f2164f1327b6877"
  },
  {
   "cell_type": "code",
   "execution_count": null,
   "outputs": [],
   "source": [],
   "metadata": {
    "collapsed": false
   },
   "id": "ab996b3910c4581d"
  }
 ],
 "metadata": {
  "kernelspec": {
   "display_name": "Python 3",
   "language": "python",
   "name": "python3"
  },
  "language_info": {
   "codemirror_mode": {
    "name": "ipython",
    "version": 2
   },
   "file_extension": ".py",
   "mimetype": "text/x-python",
   "name": "python",
   "nbconvert_exporter": "python",
   "pygments_lexer": "ipython2",
   "version": "2.7.6"
  }
 },
 "nbformat": 4,
 "nbformat_minor": 5
}
