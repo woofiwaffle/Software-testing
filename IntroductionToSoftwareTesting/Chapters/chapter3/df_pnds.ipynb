{
 "cells": [
  {
   "cell_type": "code",
   "execution_count": 1,
   "id": "initial_id",
   "metadata": {
    "collapsed": true,
    "ExecuteTime": {
     "end_time": "2023-12-07T19:56:57.109755700Z",
     "start_time": "2023-12-07T19:56:56.019235900Z"
    }
   },
   "outputs": [
    {
     "name": "stdout",
     "output_type": "stream",
     "text": [
      "    random  ones  new_column\n",
      "0      -18     1         -15\n",
      "1      -16     1         -13\n",
      "2       43     1          46\n",
      "3      -37     1         -34\n",
      "4       30     1          33\n",
      "5       99     1         102\n",
      "6       62     1          65\n",
      "7      -71     1         -68\n",
      "8      -84     1         -81\n",
      "9       21     1          24\n",
      "10       0     1           2\n"
     ]
    }
   ],
   "source": [
    "import pandas as pd\n",
    "import random\n",
    "\n",
    "df1 = pd.DataFrame()\n",
    "df1['random'] = pd.Series([random.randint(-100, 100) for _ in range(10)])\n",
    "df1['ones'] = pd.Series([1] * 10)\n",
    "df1['new_column'] = (df1['random'] + 3) * df1['ones']\n",
    "df1.loc[len(df1.index)] = [i for i in range(len(df1.columns))]\n",
    "print(df1)"
   ]
  },
  {
   "cell_type": "code",
   "execution_count": null,
   "outputs": [],
   "source": [],
   "metadata": {
    "collapsed": false
   },
   "id": "b748153570c6b8d4"
  }
 ],
 "metadata": {
  "kernelspec": {
   "display_name": "Python 3",
   "language": "python",
   "name": "python3"
  },
  "language_info": {
   "codemirror_mode": {
    "name": "ipython",
    "version": 2
   },
   "file_extension": ".py",
   "mimetype": "text/x-python",
   "name": "python",
   "nbconvert_exporter": "python",
   "pygments_lexer": "ipython2",
   "version": "2.7.6"
  }
 },
 "nbformat": 4,
 "nbformat_minor": 5
}
